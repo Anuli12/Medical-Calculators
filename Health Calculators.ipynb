{
 "cells": [
  {
   "cell_type": "markdown",
   "id": "b3da94a1",
   "metadata": {},
   "source": [
    "# Welcome To Health Calculators"
   ]
  },
  {
   "cell_type": "markdown",
   "id": "e0acbb40",
   "metadata": {},
   "source": [
    "## Body Mass Index (BMI) Calculator"
   ]
  },
  {
   "cell_type": "code",
   "execution_count": 16,
   "id": "086dcf48",
   "metadata": {},
   "outputs": [
    {
     "name": "stdout",
     "output_type": "stream",
     "text": [
      "Enter your name: Alice\n",
      "Enter your weight in kilograms: 56\n",
      "Enter your height in meters: 1.59\n",
      "22.151022507021082\n",
      "Alice,you have Normal weight.\n"
     ]
    }
   ],
   "source": [
    "Name = input('Enter your name: ')\n",
    "\n",
    "Weight = int(input(\"Enter your weight in kilograms: \"))\n",
    "\n",
    "Height = float(input(\"Enter your height in meters: \"))\n",
    "\n",
    "BMI = Weight / (Height * Height)\n",
    "\n",
    "print(BMI)\n",
    "\n",
    "if BMI > 0:\n",
    "    if BMI < 18.5:\n",
    "        print(Name + ',you are Underweight.')\n",
    "    elif BMI <= 24.9:\n",
    "        print(Name + ',you have Normal weight.')\n",
    "    elif BMI < 40:\n",
    "        print(Name + ',you are Overweight.')\n",
    "    elif BMI >= 40:\n",
    "        print(Name + ',you are Obese.')\n",
    "else:\n",
    "    print('Enter valid inputs.')\n"
   ]
  },
  {
   "cell_type": "markdown",
   "id": "fae33d65",
   "metadata": {},
   "source": [
    "## Basal Metabolic Rate (BMR) Calculator"
   ]
  },
  {
   "cell_type": "code",
   "execution_count": 17,
   "id": "457e88e2",
   "metadata": {
    "scrolled": false
   },
   "outputs": [
    {
     "name": "stdout",
     "output_type": "stream",
     "text": [
      "Enter your name: Joe\n",
      "Enter your age: 45\n",
      "Enter your gender (male/female): male\n",
      "Enter your weight in kg: 89\n",
      "Enter your height in meters: 1.73\n",
      "Enter your activity level: very active\n",
      "Joe,your BMR is 1179.08 Calories/day\n"
     ]
    }
   ],
   "source": [
    "Name = input('Enter your name: ')\n",
    "age = int(input('Enter your age: '))\n",
    "gender = input('Enter your gender (male/female): ')\n",
    "weight = int(input('Enter your weight in kg: '))\n",
    "height = float(input('Enter your height in meters: '))\n",
    "activity_level = input('Enter your activity level: ')\n",
    "\n",
    "if gender == 'male':\n",
    "    BMR = (9.99 * weight) + (6.25 * height) - (4.92 * age) + 5\n",
    "elif gender == 'female':\n",
    "    BMR =  (9.99 * weight) + (6.25 * height) - (4.92 * age) - 161\n",
    "else:\n",
    "    print('Enter valid inputs.')\n",
    "\n",
    "activity_multipliers = {\n",
    "    'sedentary': 1.2,\n",
    "    'lightly active': 1.375,\n",
    "    'moderately active': 1.55,\n",
    "    'very active': 1.725,\n",
    "    'extra active': 1.9\n",
    "}\n",
    "\n",
    "if activity_level in activity_multipliers:\n",
    "    BMR *= activity_multipliers[activity_level]\n",
    "else:\n",
    "    print('Enter valid inputs.')\n",
    "\n",
    "print(Name + \",your BMR is\", round(BMR,2), \"Calories/day\")\n"
   ]
  },
  {
   "cell_type": "markdown",
   "id": "1746c1d3",
   "metadata": {},
   "source": [
    "## Daily Calorie Intake Calculator"
   ]
  },
  {
   "cell_type": "code",
   "execution_count": 18,
   "id": "d8ed8276",
   "metadata": {},
   "outputs": [
    {
     "name": "stdout",
     "output_type": "stream",
     "text": [
      "Enter your name: Angel\n",
      "Enter your gender (male/female): female\n",
      "Enter your age: 30\n",
      "Enter your height in meters: 1.60\n",
      "Enter your weight in kg: 68\n",
      "Enter your activity level: moderately active\n",
      "Angel, your daily calorie requirement intake is: 1813.0 kcal/day\n"
     ]
    }
   ],
   "source": [
    "while True:\n",
    "    Name = input('Enter your name: ')\n",
    "    gender = input('Enter your gender (male/female): ')\n",
    "    age = input('Enter your age: ')\n",
    "    height = input('Enter your height in meters: ')\n",
    "    weight = input ('Enter your weight in kg: ')\n",
    "    activity_level = input('Enter your activity level: ')\n",
    "    try:\n",
    "        height = float(height)\n",
    "        weight = float(weight)\n",
    "    except ValueError:\n",
    "        print(\"That was not a valid number. Enter a number: \")\n",
    "        continue\n",
    "    else:\n",
    "        break\n",
    "\n",
    "\n",
    "if gender == 'male':\n",
    "    KCAL = 66 + (13.7 * float(weight)) + (5 * float(height)) - (6.8 * float(age))\n",
    "elif gender == 'female':\n",
    "    KCAL = 655 + (9.6 * float(weight)) + (1.8 * float(height)) - (4.7 * float(age))\n",
    "else:\n",
    "    print('Enter valid inputs.')\n",
    "\n",
    "activity_multipliers = {\n",
    "    'sedentary': 1.2,\n",
    "    'lightly active': 1.375,\n",
    "    'moderately active': 1.55,\n",
    "    'very active': 1.725,\n",
    "    'extra active': 1.9\n",
    "}\n",
    "\n",
    "if activity_level in activity_multipliers:\n",
    "    KCAL *= activity_multipliers[activity_level]\n",
    "else:\n",
    "    print('Enter valid inputs.')\n",
    "\n",
    "print(Name + \", your daily calorie requirement intake is:\", round(KCAL, 2), 'kcal/day')"
   ]
  },
  {
   "cell_type": "code",
   "execution_count": null,
   "id": "9dfd7af3",
   "metadata": {},
   "outputs": [],
   "source": []
  }
 ],
 "metadata": {
  "kernelspec": {
   "display_name": "Python 3 (ipykernel)",
   "language": "python",
   "name": "python3"
  },
  "language_info": {
   "codemirror_mode": {
    "name": "ipython",
    "version": 3
   },
   "file_extension": ".py",
   "mimetype": "text/x-python",
   "name": "python",
   "nbconvert_exporter": "python",
   "pygments_lexer": "ipython3",
   "version": "3.9.13"
  }
 },
 "nbformat": 4,
 "nbformat_minor": 5
}
