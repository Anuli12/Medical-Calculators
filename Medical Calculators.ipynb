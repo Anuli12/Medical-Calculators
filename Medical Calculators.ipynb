{
 "cells": [
  {
   "cell_type": "markdown",
   "id": "05c12c63",
   "metadata": {},
   "source": [
    "# Welcome To Medical Calculator"
   ]
  },
  {
   "cell_type": "markdown",
   "id": "e0acbb40",
   "metadata": {},
   "source": [
    "## BODY MASS INDEX (BMI) Calculator"
   ]
  },
  {
   "cell_type": "code",
   "execution_count": 2,
   "id": "086dcf48",
   "metadata": {},
   "outputs": [
    {
     "name": "stdout",
     "output_type": "stream",
     "text": [
      "Enter your name: emma\n",
      "Enter your weight in kilograms: 56\n",
      "Enter your height in meters: 1.58\n",
      "22.432302515622492\n",
      "emma,you have Normal weight.\n"
     ]
    }
   ],
   "source": [
    "Name = input('Enter your name: ')\n",
    "\n",
    "Weight = int(input(\"Enter your weight in kilograms: \"))\n",
    "\n",
    "Height = float(input(\"Enter your height in meters: \"))\n",
    "\n",
    "BMI = Weight / (Height * Height)\n",
    "\n",
    "print(BMI)\n",
    "\n",
    "if BMI > 0:\n",
    "    if BMI < 18.5:\n",
    "        print(Name + ',you are Underweight.')\n",
    "    elif BMI <= 24.9:\n",
    "        print(Name + ',you have Normal weight.')\n",
    "    elif BMI < 40:\n",
    "        print(Name + ',you are Overweight.')\n",
    "    elif BMI >= 40:\n",
    "        print(Name + ',you are Obese.')\n",
    "else:\n",
    "    print('Enter valid inputs.')\n"
   ]
  },
  {
   "cell_type": "markdown",
   "id": "fae33d65",
   "metadata": {},
   "source": [
    "## Basal Metabolic Rate (BMR) Calculator"
   ]
  },
  {
   "cell_type": "code",
   "execution_count": 3,
   "id": "457e88e2",
   "metadata": {
    "scrolled": false
   },
   "outputs": [
    {
     "name": "stdout",
     "output_type": "stream",
     "text": [
      "Enter your name: alice\n",
      "Enter your age: 25\n",
      "Enter your gender (male/female): female\n",
      "Enter your weight in kg: 67\n",
      "Enter your height in meters: 1.58\n",
      "Enter your activity level: extra active\n",
      "alice,your BMR is 750.89 Calories/day\n"
     ]
    }
   ],
   "source": [
    "Name = input('Enter your name: ')\n",
    "age = int(input('Enter your age: '))\n",
    "gender = input('Enter your gender (male/female): ')\n",
    "weight = int(input('Enter your weight in kg: '))\n",
    "height = float(input('Enter your height in meters: '))\n",
    "activity_level = input('Enter your activity level: ')\n",
    "\n",
    "if gender == 'male':\n",
    "    BMR = (9.99 * weight) + (6.25 * height) - (4.92 * age) + 5\n",
    "elif gender == 'female':\n",
    "    BMR =  (9.99 * weight) + (6.25 * height) - (4.92 * age) - 161\n",
    "else:\n",
    "    print('Enter valid inputs.')\n",
    "\n",
    "activity_multipliers = {\n",
    "    'sedentary': 1.2,\n",
    "    'lightly active': 1.375,\n",
    "    'moderately active': 1.55,\n",
    "    'very active': 1.725,\n",
    "    'extra active': 1.9\n",
    "}\n",
    "\n",
    "if activity_level in activity_multipliers:\n",
    "    BMR *= activity_multipliers[activity_level]\n",
    "else:\n",
    "    print('Enter valid inputs.')\n",
    "\n",
    "print(Name + \",your BMR is\", round(BMR,2), \"Calories/day\")\n"
   ]
  },
  {
   "cell_type": "markdown",
   "id": "1746c1d3",
   "metadata": {},
   "source": [
    "## Daily Calorie Intake Calculator"
   ]
  },
  {
   "cell_type": "code",
   "execution_count": 15,
   "id": "d8ed8276",
   "metadata": {},
   "outputs": [
    {
     "name": "stdout",
     "output_type": "stream",
     "text": [
      "Enter your name: fri\n",
      "Enter your gender (male/female): male\n",
      "Enter your age: 25\n",
      "Enter your height in meters: 173\n",
      "Enter your weight in kg: 60\n",
      "Enter your activity level: moderately active\n",
      "fri, your daily calorie requirement intake is: 2453.65 kcal/day\n"
     ]
    }
   ],
   "source": [
    "while True:\n",
    "    Name = input('Enter your name: ')\n",
    "    gender = input('Enter your gender (male/female): ')\n",
    "    age = input('Enter your age: ')\n",
    "    height = input('Enter your height in meters: ')\n",
    "    weight = input ('Enter your weight in kg: ')\n",
    "    activity_level = input('Enter your activity level: ')\n",
    "    try:\n",
    "        height = float(height)\n",
    "        weight = float(weight)\n",
    "    except ValueError:\n",
    "        print(\"That was not a valid number. Enter a number: \")\n",
    "        continue\n",
    "    else:\n",
    "        break\n",
    "\n",
    "\n",
    "if gender == 'male':\n",
    "    KCAL = 66 + (13.7 * float(weight)) + (5 * float(height)) - (6.8 * float(age))\n",
    "elif gender == 'female':\n",
    "    KCAL = 655 + (9.6 * float(weight)) + (1.8 * float(height)) - (4.7 * float(age))\n",
    "else:\n",
    "    print('Enter valid inputs.')\n",
    "\n",
    "activity_multipliers = {\n",
    "    'sedentary': 1.2,\n",
    "    'lightly active': 1.375,\n",
    "    'moderately active': 1.55,\n",
    "    'very active': 1.725,\n",
    "    'extra active': 1.9\n",
    "}\n",
    "\n",
    "if activity_level in activity_multipliers:\n",
    "    KCAL *= activity_multipliers[activity_level]\n",
    "else:\n",
    "    print('Enter valid inputs.')\n",
    "\n",
    "print(Name + \", your daily calorie requirement intake is:\", round(KCAL, 2), 'kcal/day')"
   ]
  },
  {
   "cell_type": "code",
   "execution_count": null,
   "id": "1b9a11f5",
   "metadata": {},
   "outputs": [],
   "source": []
  }
 ],
 "metadata": {
  "kernelspec": {
   "display_name": "Python 3 (ipykernel)",
   "language": "python",
   "name": "python3"
  },
  "language_info": {
   "codemirror_mode": {
    "name": "ipython",
    "version": 3
   },
   "file_extension": ".py",
   "mimetype": "text/x-python",
   "name": "python",
   "nbconvert_exporter": "python",
   "pygments_lexer": "ipython3",
   "version": "3.9.13"
  }
 },
 "nbformat": 4,
 "nbformat_minor": 5
}
